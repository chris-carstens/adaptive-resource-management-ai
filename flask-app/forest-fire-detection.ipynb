{
 "cells": [
  {
   "cell_type": "markdown",
   "id": "ffc77ff9",
   "metadata": {},
   "source": [
    "# Forest Fire Detection Model\n",
    "\n",
    "## Setting up Virtual Environment for Jupyter in VS Code\n",
    "\n",
    "Follow these steps to create and use a virtual environment with this notebook:\n",
    "\n",
    "1. Open a terminal in VS Code\n",
    "2. Navigate to your project directory\n",
    "3. Create a virtual environment called `.flask-venv`:\n",
    "   ```bash\n",
    "   python -m venv .flask-venv\n",
    "   ```\n",
    "4. Activate the virtual environment:\n",
    "   - On macOS/Linux: `source .flask-venv/bin/activate`\n",
    "   - On Windows: `.flask-venv\\Scripts\\activate`\n",
    "5. Install ipykernel to make the venv available to Jupyter:\n",
    "   ```bash\n",
    "   pip install ipykernel\n",
    "   ```\n",
    "6. Register the venv as a Jupyter kernel:\n",
    "   ```bash\n",
    "   python -m ipykernel install --user --name=flask-venv --display-name \"Python (.flask-venv)\"\n",
    "   ```\n",
    "7. Restart VS Code\n",
    "8. Open this notebook and select the kernel called \"Python (.flask-venv)\" from the kernel selector in the top right corner\n",
    "\n",
    "You can verify the active kernel is using your venv by running the cell below."
   ]
  },
  {
   "cell_type": "code",
   "execution_count": 1,
   "id": "20550fad",
   "metadata": {
    "_cell_guid": "b1076dfc-b9ad-4769-8c92-a6c4dae69d19",
    "_uuid": "8f2839f25d086af736a60e9eeb907d3b93b6e0e5",
    "execution": {
     "iopub.execute_input": "2024-04-28T16:52:46.279613Z",
     "iopub.status.busy": "2024-04-28T16:52:46.278831Z",
     "iopub.status.idle": "2024-04-28T16:52:58.423913Z",
     "shell.execute_reply": "2024-04-28T16:52:58.422948Z"
    },
    "papermill": {
     "duration": 12.15792,
     "end_time": "2024-04-28T16:52:58.426208",
     "exception": false,
     "start_time": "2024-04-28T16:52:46.268288",
     "status": "completed"
    },
    "tags": []
   },
   "outputs": [
    {
     "name": "stderr",
     "output_type": "stream",
     "text": [
      "2025-05-15 04:04:55.579102: I tensorflow/core/platform/cpu_feature_guard.cc:182] This TensorFlow binary is optimized to use available CPU instructions in performance-critical operations.\n",
      "To enable the following instructions: AVX2 FMA, in other operations, rebuild TensorFlow with the appropriate compiler flags.\n",
      "/Users/christian/Desktop/MASTER/1 year/Semester 1/SOFTWARE ENGINEERING 2/RESEARCH PROJECT/adaptative-resource-management-ai/flask-app/.flask-venv/lib/python3.10/site-packages/tqdm/auto.py:21: TqdmWarning: IProgress not found. Please update jupyter and ipywidgets. See https://ipywidgets.readthedocs.io/en/stable/user_install.html\n",
      "  from .autonotebook import tqdm as notebook_tqdm\n"
     ]
    }
   ],
   "source": [
    "import tensorflow as tf\n",
    "from matplotlib import pyplot as plt\n",
    "from keras.models import load_model\n",
    "from tensorflow.keras.metrics import Precision, Recall, BinaryAccuracy\n",
    "from sklearn.metrics import confusion_matrix\n",
    "import seaborn as sns\n",
    "import kagglehub\n",
    "from tensorflow.keras.models import Sequential\n",
    "from tensorflow.keras.layers import Conv2D, MaxPooling2D, Dense, Flatten, Dropout, BatchNormalization\n",
    "from tensorflow.keras.optimizers import AdamW"
   ]
  },
  {
   "cell_type": "code",
   "execution_count": 2,
   "id": "14744736",
   "metadata": {
    "execution": {
     "iopub.execute_input": "2024-04-28T16:52:58.443142Z",
     "iopub.status.busy": "2024-04-28T16:52:58.442407Z",
     "iopub.status.idle": "2024-04-28T16:52:59.391198Z",
     "shell.execute_reply": "2024-04-28T16:52:59.389935Z"
    },
    "papermill": {
     "duration": 0.959692,
     "end_time": "2024-04-28T16:52:59.393809",
     "exception": false,
     "start_time": "2024-04-28T16:52:58.434117",
     "status": "completed"
    },
    "tags": []
   },
   "outputs": [
    {
     "name": "stdout",
     "output_type": "stream",
     "text": [
      "zsh:1: no matches found: /kaggle/working/*\n"
     ]
    }
   ],
   "source": [
    "!rm -rf /kaggle/working/*"
   ]
  },
  {
   "cell_type": "code",
   "execution_count": 2,
   "id": "fc9fd397",
   "metadata": {
    "execution": {
     "iopub.execute_input": "2024-04-28T16:52:59.411694Z",
     "iopub.status.busy": "2024-04-28T16:52:59.410886Z",
     "iopub.status.idle": "2024-04-28T16:52:59.415499Z",
     "shell.execute_reply": "2024-04-28T16:52:59.414633Z"
    },
    "papermill": {
     "duration": 0.015704,
     "end_time": "2024-04-28T16:52:59.417398",
     "exception": false,
     "start_time": "2024-04-28T16:52:59.401694",
     "status": "completed"
    },
    "tags": []
   },
   "outputs": [
    {
     "name": "stdout",
     "output_type": "stream",
     "text": [
      "Warning: Looks like you're using an outdated `kagglehub` version (installed: 0.3.10), please consider upgrading to the latest version (0.3.12).\n"
     ]
    },
    {
     "data": {
      "text/plain": [
       "'/Users/christian/.cache/kagglehub/datasets/alik05/forest-fire-dataset/versions/1'"
      ]
     },
     "execution_count": 2,
     "metadata": {},
     "output_type": "execute_result"
    }
   ],
   "source": [
    "data_dir = kagglehub.dataset_download(\"alik05/forest-fire-dataset\")\n",
    "test_folder = f'{data_dir}/Forest Fire Dataset/Testing'\n",
    "\n",
    "data_dir"
   ]
  },
  {
   "cell_type": "code",
   "execution_count": 3,
   "id": "87d43d40",
   "metadata": {},
   "outputs": [
    {
     "name": "stdout",
     "output_type": "stream",
     "text": [
      "Found 1520 files belonging to 2 classes.\n"
     ]
    },
    {
     "data": {
      "text/plain": [
       "507"
      ]
     },
     "execution_count": 3,
     "metadata": {},
     "output_type": "execute_result"
    }
   ],
   "source": [
    "Training = tf.keras.utils.image_dataset_from_directory(f'{data_dir}/Forest Fire Dataset/Training', image_size=(8, 8), batch_size=3)\n",
    "Training = Training.map(lambda x,y: (x/255, y))\n",
    "len(Training)"
   ]
  },
  {
   "cell_type": "code",
   "execution_count": null,
   "id": "1df5e9bd",
   "metadata": {
    "execution": {
     "iopub.execute_input": "2024-04-28T16:53:00.080302Z",
     "iopub.status.busy": "2024-04-28T16:53:00.079623Z",
     "iopub.status.idle": "2024-04-28T16:53:02.812438Z",
     "shell.execute_reply": "2024-04-28T16:53:02.811439Z"
    },
    "papermill": {
     "duration": 2.746195,
     "end_time": "2024-04-28T16:53:02.814729",
     "exception": false,
     "start_time": "2024-04-28T16:53:00.068534",
     "status": "completed"
    },
    "tags": []
   },
   "outputs": [
    {
     "name": "stdout",
     "output_type": "stream",
     "text": [
      "train_size: 4 test_size: 1\n",
      "<_TakeDataset element_spec=(TensorSpec(shape=(None, 8, 8, 3), dtype=tf.float32, name=None), TensorSpec(shape=(None,), dtype=tf.int32, name=None))> <_TakeDataset element_spec=(TensorSpec(shape=(None, 8, 8, 3), dtype=tf.float32, name=None), TensorSpec(shape=(None,), dtype=tf.int32, name=None))>\n",
      "Model: \"sequential_17\"\n",
      "_________________________________________________________________\n",
      " Layer (type)                Output Shape              Param #   \n",
      "=================================================================\n",
      " conv2d_17 (Conv2D)          (None, 6, 6, 8)           224       \n",
      "                                                                 \n",
      " max_pooling2d_17 (MaxPooli  (None, 3, 3, 8)           0         \n",
      " ng2D)                                                           \n",
      "                                                                 \n",
      " flatten_17 (Flatten)        (None, 72)                0         \n",
      "                                                                 \n",
      " dense_10 (Dense)            (None, 1)                 73        \n",
      "                                                                 \n",
      "=================================================================\n",
      "Total params: 297 (1.16 KB)\n",
      "Trainable params: 297 (1.16 KB)\n",
      "Non-trainable params: 0 (0.00 Byte)\n",
      "_________________________________________________________________\n"
     ]
    },
    {
     "data": {
      "text/plain": [
       "0.33333334"
      ]
     },
     "execution_count": 21,
     "metadata": {},
     "output_type": "execute_result"
    }
   ],
   "source": [
    "import numpy as np\n",
    "train_size = int(len(Training)*.8*0.01)\n",
    "test_size = int(len(Training)*.2*0.01)\n",
    "\n",
    "print(\"train_size:\",train_size,\"test_size:\",test_size)\n",
    "train = Training.take(train_size)\n",
    "test = Training.skip(train_size).take(test_size)\n",
    "print(train,test)\n",
    "\n",
    "model = Sequential()\n",
    "model.add(Conv2D(8, (3,3), 1, activation='relu', input_shape=(8,8,3)))\n",
    "model.add(MaxPooling2D())\n",
    "model.add(Flatten())\n",
    "model.add(Dense(1, activation='sigmoid'))\n",
    "\n",
    "model.compile(optimizer='adam', \n",
    "              loss=tf.keras.losses.BinaryCrossentropy(),\n",
    "              metrics=['accuracy'])\n",
    "model.summary()\n",
    "\n",
    "hist = model.fit(train, epochs=1, validation_data=test, verbose=0)\n",
    "def generate_features(dataset):\n",
    "    all_features = []\n",
    "    all_labels = []\n",
    "\n",
    "    for images, labels in dataset:\n",
    "        features = model.predict(images, verbose=0)\n",
    "        all_features.append(features)\n",
    "        all_labels.append(labels)\n",
    "    return np.concatenate(all_features), np.concatenate(all_labels)\n",
    "\n",
    "train_features, train_labels = generate_features(train)\n",
    "test_features, test_labels = generate_features(test)\n",
    "\n",
    "\n",
    "\n",
    "pre = Precision()\n",
    "re = Recall()\n",
    "acc = BinaryAccuracy()\n",
    "\n",
    "for images, labels in test:\n",
    "    predictions = model.predict(images, verbose=0)\n",
    "\n",
    "    pre.update_state(labels, predictions)\n",
    "    re.update_state(labels, predictions)\n",
    "    acc.update_state(labels, predictions)\n",
    "\n",
    "acc.result().numpy()"
   ]
  },
  {
   "cell_type": "code",
   "execution_count": null,
   "id": "ef1d2475",
   "metadata": {
    "execution": {
     "iopub.execute_input": "2024-04-28T16:57:47.067592Z",
     "iopub.status.busy": "2024-04-28T16:57:47.066883Z",
     "iopub.status.idle": "2024-04-28T16:57:49.397188Z",
     "shell.execute_reply": "2024-04-28T16:57:49.396165Z"
    },
    "papermill": {
     "duration": 2.42192,
     "end_time": "2024-04-28T16:57:49.399177",
     "exception": false,
     "start_time": "2024-04-28T16:57:46.977257",
     "status": "completed"
    },
    "tags": []
   },
   "outputs": [
    {
     "name": "stdout",
     "output_type": "stream",
     "text": [
      "Images moved successfully.\n"
     ]
    },
    {
     "ename": "",
     "evalue": "",
     "output_type": "error",
     "traceback": [
      "\u001b[1;31mnotebook controller is DISPOSED. \n",
      "\u001b[1;31mView Jupyter <a href='command:jupyter.viewOutput'>log</a> for further details."
     ]
    }
   ],
   "source": [
    "import os\n",
    "import shutil\n",
    "\n",
    "# Define source directory\n",
    "source_directory = test_folder\n",
    "\n",
    "# Define destination directories\n",
    "fire_directory = '/kaggle/working/Testing/fire'\n",
    "nofire_directory = '/kaggle/working/Testing/nofire'\n",
    "\n",
    "# Create fire and nofire directories if they don't exist\n",
    "os.makedirs(fire_directory, exist_ok=True)\n",
    "os.makedirs(nofire_directory, exist_ok=True)\n",
    "\n",
    "# Iterate through files in the source directory\n",
    "for filename in os.listdir(source_directory):\n",
    "    source_path = os.path.join(source_directory, filename)\n",
    "    if filename.startswith('fire_'):\n",
    "        shutil.copy(source_path, os.path.join(fire_directory, filename))\n",
    "    elif filename.startswith('nofire_'):\n",
    "        shutil.copy(source_path, os.path.join(nofire_directory, filename))\n",
    "\n",
    "print(\"Images moved successfully.\")"
   ]
  },
  {
   "cell_type": "code",
   "execution_count": null,
   "id": "807760fa",
   "metadata": {
    "execution": {
     "iopub.execute_input": "2024-04-28T16:57:49.572093Z",
     "iopub.status.busy": "2024-04-28T16:57:49.571771Z",
     "iopub.status.idle": "2024-04-28T16:57:49.585373Z",
     "shell.execute_reply": "2024-04-28T16:57:49.584705Z"
    },
    "papermill": {
     "duration": 0.102066,
     "end_time": "2024-04-28T16:57:49.587200",
     "exception": false,
     "start_time": "2024-04-28T16:57:49.485134",
     "status": "completed"
    },
    "tags": []
   },
   "outputs": [],
   "source": [
    "pre = Precision()\n",
    "re = Recall()\n",
    "acc = BinaryAccuracy()"
   ]
  },
  {
   "cell_type": "code",
   "execution_count": null,
   "id": "cd63182f",
   "metadata": {
    "execution": {
     "iopub.execute_input": "2024-04-28T16:57:49.759297Z",
     "iopub.status.busy": "2024-04-28T16:57:49.759018Z",
     "iopub.status.idle": "2024-04-28T16:57:49.809123Z",
     "shell.execute_reply": "2024-04-28T16:57:49.808245Z"
    },
    "papermill": {
     "duration": 0.139036,
     "end_time": "2024-04-28T16:57:49.811019",
     "exception": false,
     "start_time": "2024-04-28T16:57:49.671983",
     "status": "completed"
    },
    "tags": []
   },
   "outputs": [
    {
     "name": "stdout",
     "output_type": "stream",
     "text": [
      "Found 380 files belonging to 2 classes.\n"
     ]
    }
   ],
   "source": [
    "Testing = tf.keras.utils.image_dataset_from_directory('/kaggle/working/Testing',image_size=(250,250))"
   ]
  },
  {
   "cell_type": "code",
   "execution_count": null,
   "id": "488f8e8a",
   "metadata": {
    "execution": {
     "iopub.execute_input": "2024-04-28T16:57:49.982579Z",
     "iopub.status.busy": "2024-04-28T16:57:49.982303Z",
     "iopub.status.idle": "2024-04-28T16:58:08.945515Z",
     "shell.execute_reply": "2024-04-28T16:58:08.944609Z"
    },
    "papermill": {
     "duration": 19.05062,
     "end_time": "2024-04-28T16:58:08.947490",
     "exception": false,
     "start_time": "2024-04-28T16:57:49.896870",
     "status": "completed"
    },
    "tags": []
   },
   "outputs": [
    {
     "name": "stdout",
     "output_type": "stream",
     "text": [
      "\u001b[1m1/1\u001b[0m \u001b[32m━━━━━━━━━━━━━━━━━━━━\u001b[0m\u001b[37m\u001b[0m \u001b[1m0s\u001b[0m 291ms/step\n",
      "\u001b[1m1/1\u001b[0m \u001b[32m━━━━━━━━━━━━━━━━━━━━\u001b[0m\u001b[37m\u001b[0m \u001b[1m0s\u001b[0m 27ms/step\n",
      "\u001b[1m1/1\u001b[0m \u001b[32m━━━━━━━━━━━━━━━━━━━━\u001b[0m\u001b[37m\u001b[0m \u001b[1m0s\u001b[0m 27ms/step\n",
      "\u001b[1m1/1\u001b[0m \u001b[32m━━━━━━━━━━━━━━━━━━━━\u001b[0m\u001b[37m\u001b[0m \u001b[1m0s\u001b[0m 27ms/step\n",
      "\u001b[1m1/1\u001b[0m \u001b[32m━━━━━━━━━━━━━━━━━━━━\u001b[0m\u001b[37m\u001b[0m \u001b[1m0s\u001b[0m 27ms/step\n",
      "\u001b[1m1/1\u001b[0m \u001b[32m━━━━━━━━━━━━━━━━━━━━\u001b[0m\u001b[37m\u001b[0m \u001b[1m0s\u001b[0m 39ms/step\n",
      "\u001b[1m1/1\u001b[0m \u001b[32m━━━━━━━━━━━━━━━━━━━━\u001b[0m\u001b[37m\u001b[0m \u001b[1m0s\u001b[0m 39ms/step\n",
      "\u001b[1m1/1\u001b[0m \u001b[32m━━━━━━━━━━━━━━━━━━━━\u001b[0m\u001b[37m\u001b[0m \u001b[1m0s\u001b[0m 28ms/step\n",
      "\u001b[1m1/1\u001b[0m \u001b[32m━━━━━━━━━━━━━━━━━━━━\u001b[0m\u001b[37m\u001b[0m \u001b[1m0s\u001b[0m 40ms/step\n",
      "\u001b[1m1/1\u001b[0m \u001b[32m━━━━━━━━━━━━━━━━━━━━\u001b[0m\u001b[37m\u001b[0m \u001b[1m0s\u001b[0m 30ms/step\n",
      "\u001b[1m1/1\u001b[0m \u001b[32m━━━━━━━━━━━━━━━━━━━━\u001b[0m\u001b[37m\u001b[0m \u001b[1m0s\u001b[0m 27ms/step\n"
     ]
    },
    {
     "name": "stderr",
     "output_type": "stream",
     "text": [
      "2024-04-28 16:58:02.104471: E external/local_xla/xla/service/slow_operation_alarm.cc:65] Trying algorithm eng36{k2=3,k3=0} for conv (f32[28,125,122,122]{3,2,1,0}, u8[0]{0}) custom-call(f32[28,250,124,124]{3,2,1,0}, f32[125,250,3,3]{3,2,1,0}, f32[125]{0}), window={size=3x3}, dim_labels=bf01_oi01->bf01, custom_call_target=\"__cudnn$convBiasActivationForward\", backend_config={\"conv_result_scale\":1,\"activation_mode\":\"kRelu\",\"side_input_scale\":0,\"leakyrelu_alpha\":0} is taking a while...\n",
      "2024-04-28 16:58:02.140607: E external/local_xla/xla/service/slow_operation_alarm.cc:133] The operation took 1.036238318s\n",
      "Trying algorithm eng36{k2=3,k3=0} for conv (f32[28,125,122,122]{3,2,1,0}, u8[0]{0}) custom-call(f32[28,250,124,124]{3,2,1,0}, f32[125,250,3,3]{3,2,1,0}, f32[125]{0}), window={size=3x3}, dim_labels=bf01_oi01->bf01, custom_call_target=\"__cudnn$convBiasActivationForward\", backend_config={\"conv_result_scale\":1,\"activation_mode\":\"kRelu\",\"side_input_scale\":0,\"leakyrelu_alpha\":0} is taking a while...\n"
     ]
    },
    {
     "name": "stdout",
     "output_type": "stream",
     "text": [
      "\u001b[1m1/1\u001b[0m \u001b[32m━━━━━━━━━━━━━━━━━━━━\u001b[0m\u001b[37m\u001b[0m \u001b[1m16s\u001b[0m 16s/step\n"
     ]
    }
   ],
   "source": [
    "for batch in Testing.as_numpy_iterator(): \n",
    "    X, y = batch\n",
    "    yhat = model.predict(X)\n",
    "    pre.update_state(y, yhat)\n",
    "    re.update_state(y, yhat)\n",
    "    acc.update_state(y, yhat)"
   ]
  },
  {
   "cell_type": "code",
   "execution_count": null,
   "id": "3882313a",
   "metadata": {
    "execution": {
     "iopub.execute_input": "2024-04-28T16:58:09.126927Z",
     "iopub.status.busy": "2024-04-28T16:58:09.126607Z",
     "iopub.status.idle": "2024-04-28T16:58:09.137493Z",
     "shell.execute_reply": "2024-04-28T16:58:09.136539Z"
    },
    "papermill": {
     "duration": 0.101707,
     "end_time": "2024-04-28T16:58:09.139456",
     "exception": false,
     "start_time": "2024-04-28T16:58:09.037749",
     "status": "completed"
    },
    "tags": []
   },
   "outputs": [
    {
     "name": "stdout",
     "output_type": "stream",
     "text": [
      "Precision:0.9833333492279053,Recall:0.9315789341926575,Accuracy:0.9578947424888611\n"
     ]
    }
   ],
   "source": [
    "print(f'Precision:{pre.result()},Recall:{re.result()},Accuracy:{acc.result()}')"
   ]
  },
  {
   "cell_type": "code",
   "execution_count": null,
   "id": "d5ded237",
   "metadata": {
    "execution": {
     "iopub.execute_input": "2024-04-28T16:58:09.314709Z",
     "iopub.status.busy": "2024-04-28T16:58:09.314403Z",
     "iopub.status.idle": "2024-04-28T16:58:11.417490Z",
     "shell.execute_reply": "2024-04-28T16:58:11.416525Z"
    },
    "papermill": {
     "duration": 2.193572,
     "end_time": "2024-04-28T16:58:11.419687",
     "exception": false,
     "start_time": "2024-04-28T16:58:09.226115",
     "status": "completed"
    },
    "tags": []
   },
   "outputs": [
    {
     "name": "stdout",
     "output_type": "stream",
     "text": [
      "\u001b[1m1/1\u001b[0m \u001b[32m━━━━━━━━━━━━━━━━━━━━\u001b[0m\u001b[37m\u001b[0m \u001b[1m0s\u001b[0m 40ms/step\n",
      "\u001b[1m1/1\u001b[0m \u001b[32m━━━━━━━━━━━━━━━━━━━━\u001b[0m\u001b[37m\u001b[0m \u001b[1m0s\u001b[0m 27ms/step\n",
      "\u001b[1m1/1\u001b[0m \u001b[32m━━━━━━━━━━━━━━━━━━━━\u001b[0m\u001b[37m\u001b[0m \u001b[1m0s\u001b[0m 37ms/step\n",
      "\u001b[1m1/1\u001b[0m \u001b[32m━━━━━━━━━━━━━━━━━━━━\u001b[0m\u001b[37m\u001b[0m \u001b[1m0s\u001b[0m 27ms/step\n",
      "\u001b[1m1/1\u001b[0m \u001b[32m━━━━━━━━━━━━━━━━━━━━\u001b[0m\u001b[37m\u001b[0m \u001b[1m0s\u001b[0m 28ms/step\n",
      "\u001b[1m1/1\u001b[0m \u001b[32m━━━━━━━━━━━━━━━━━━━━\u001b[0m\u001b[37m\u001b[0m \u001b[1m0s\u001b[0m 28ms/step\n",
      "\u001b[1m1/1\u001b[0m \u001b[32m━━━━━━━━━━━━━━━━━━━━\u001b[0m\u001b[37m\u001b[0m \u001b[1m0s\u001b[0m 39ms/step\n",
      "\u001b[1m1/1\u001b[0m \u001b[32m━━━━━━━━━━━━━━━━━━━━\u001b[0m\u001b[37m\u001b[0m \u001b[1m0s\u001b[0m 27ms/step\n",
      "\u001b[1m1/1\u001b[0m \u001b[32m━━━━━━━━━━━━━━━━━━━━\u001b[0m\u001b[37m\u001b[0m \u001b[1m0s\u001b[0m 39ms/step\n",
      "\u001b[1m1/1\u001b[0m \u001b[32m━━━━━━━━━━━━━━━━━━━━\u001b[0m\u001b[37m\u001b[0m \u001b[1m0s\u001b[0m 27ms/step\n",
      "\u001b[1m1/1\u001b[0m \u001b[32m━━━━━━━━━━━━━━━━━━━━\u001b[0m\u001b[37m\u001b[0m \u001b[1m0s\u001b[0m 28ms/step\n",
      "\u001b[1m1/1\u001b[0m \u001b[32m━━━━━━━━━━━━━━━━━━━━\u001b[0m\u001b[37m\u001b[0m \u001b[1m0s\u001b[0m 27ms/step\n"
     ]
    },
    {
     "data": {
      "image/png": "[encoded data removed]",
      "text/plain": [
       "<Figure size 800x600 with 2 Axes>"
      ]
     },
     "metadata": {},
     "output_type": "display_data"
    }
   ],
   "source": [
    "# Initialize the lists to store true labels and predicted labels\n",
    "true_labels = []\n",
    "predicted_labels = []\n",
    "\n",
    "# Iterate through the validation data\n",
    "for batch in Testing.as_numpy_iterator():\n",
    "    X, y = batch\n",
    "    \n",
    "    # Predict using the model\n",
    "    yhat = model.predict(X)\n",
    "    \n",
    "    # Convert predicted probabilities to class labels based on threshold\n",
    "    y_classes = [1 if pred > 0.5 else 0 for pred in yhat]\n",
    "    \n",
    "    # Update true and predicted labels lists\n",
    "    true_labels.extend(y)\n",
    "    predicted_labels.extend(y_classes)\n",
    "\n",
    "# Calculate the confusion matrix\n",
    "conf_matrix = confusion_matrix(true_labels, predicted_labels)\n",
    "\n",
    "# Plot the confusion matrix using seaborn\n",
    "plt.figure(figsize=(8, 6))\n",
    "labels = ['Fire', 'No Fire']\n",
    "sns.heatmap(conf_matrix, annot=True, fmt=\"d\", xticklabels=labels, yticklabels=labels)\n",
    "plt.title('Confusion Matrix')\n",
    "plt.xlabel('Predicted Labels')\n",
    "plt.ylabel('True Labels')\n",
    "plt.show() "
   ]
  },
  {
   "cell_type": "code",
   "execution_count": null,
   "id": "57b1717c",
   "metadata": {
    "papermill": {
     "duration": 0.098516,
     "end_time": "2024-04-28T16:58:11.620063",
     "exception": false,
     "start_time": "2024-04-28T16:58:11.521547",
     "status": "completed"
    },
    "tags": []
   },
   "outputs": [],
   "source": []
  }
 ],
 "metadata": {
  "kaggle": {
   "accelerator": "nvidiaTeslaT4",
   "dataSources": [
    {
     "datasetId": 2072281,
     "sourceId": 3440040,
     "sourceType": "datasetVersion"
    },
    {
     "modelInstanceId": 34408,
     "sourceId": 40882,
     "sourceType": "modelInstanceVersion"
    }
   ],
   "dockerImageVersionId": 30699,
   "isGpuEnabled": true,
   "isInternetEnabled": true,
   "language": "python",
   "sourceType": "notebook"
  },
  "kernelspec": {
   "display_name": ".flask-venv",
   "language": "python",
   "name": "python3"
  },
  "language_info": {
   "codemirror_mode": {
    "name": "ipython",
    "version": 3
   },
   "file_extension": ".py",
   "mimetype": "text/x-python",
   "name": "python",
   "nbconvert_exporter": "python",
   "pygments_lexer": "ipython3",
   "version": "3.10.4"
  },
  "papermill": {
   "default_parameters": {},
   "duration": 331.184944,
   "end_time": "2024-04-28T16:58:14.902481",
   "environment_variables": {},
   "exception": null,
   "input_path": "__notebook__.ipynb",
   "output_path": "__notebook__.ipynb",
   "parameters": {},
   "start_time": "2024-04-28T16:52:43.717537",
   "version": "2.5.0"
  }
 },
 "nbformat": 4,
 "nbformat_minor": 5
}
